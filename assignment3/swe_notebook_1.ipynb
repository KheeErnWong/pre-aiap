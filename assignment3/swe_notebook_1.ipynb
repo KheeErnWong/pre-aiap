{
 "cells": [
  {
   "cell_type": "markdown",
   "metadata": {},
   "source": [
    "## Software (Python) Engineering Notebook 1"
   ]
  },
  {
   "cell_type": "markdown",
   "metadata": {},
   "source": [
    "The Software (Python) Engineering Notebook 1 serves as an onboarding notebook for incoming new developers.\n",
    "\n",
    "This notebook will focus more on some of the expected practices and recommended guideline surrounding git, style guides and project elements.\n",
    "\n",
    "Future notebooks will discuss more topics surrounding code quality."
   ]
  },
  {
   "cell_type": "markdown",
   "metadata": {},
   "source": [
    "### 1. Common Git Commands and Practices"
   ]
  },
  {
   "cell_type": "markdown",
   "metadata": {},
   "source": [
    "As intern and new developers, we will be working in teams and sharing a common repository. Therefore, communication and tracking of changes to the code base are very important.\n",
    "\n",
    "The following section will explain how to work as a member in a team in the context of Git."
   ]
  },
  {
   "cell_type": "markdown",
   "metadata": {},
   "source": [
    "<img src=\"assets/images/git_flow.png\" width=\"400\" height=\"400\">\n",
    "\n"
   ]
  },
  {
   "cell_type": "markdown",
   "metadata": {},
   "source": [
    "##### 1.1 Sync your Local Feature Repository with the Remote Dev Repository"
   ]
  },
  {
   "cell_type": "markdown",
   "metadata": {},
   "source": [
    "\n",
    "```git pull``` runs ```git fetch``` and a second command by default ```git merge```. It is a good idea to do a ```git pull``` every morning, after lunch or when you are done with your codes to ensure your local feature branch is up to date with the remote dev branch.\n",
    "\n",
    "If there is a conflict, it can also be caught early and resolved early.\n",
    "\n",
    "```git pull``` also requires your work to be committed because of the ```git merge``` command.\n",
    "\n",
    "If you are in the middle of your work and is not ready to commit your work, you can use ```git stash``` to shelve your work and do a ```git pull``` to update local feature branch. Finally, ```git stash pop``` to get your work back.\n",
    "\n",
    "Note: by default, ```git stash``` will stash only the following\n",
    "* changes that have been added to your index(staged changes)\n",
    "* changes made to files that are currently tracked by Git (unstaged changes)\n",
    "\n",
    "But it will not stash:\n",
    "* new files that have not yet been staged\n",
    "* files that have been ignored."
   ]
  },
  {
   "cell_type": "markdown",
   "metadata": {},
   "source": [
    "##### 1.2 Working on Multiple Branches in the same Remote Repository (Keep Single Branch Small)"
   ]
  },
  {
   "cell_type": "markdown",
   "metadata": {},
   "source": [
    "```git checkout```\n",
    "\n",
    "The ```git checkout <branch name>``` allows you to switch branches in your local machine. What happens during ```git checkout``` is that it switches the information stored in <b>index</b>(staging) to your local directory. This means that you can access folders and files of the different branches in the repo locally on your code editor.\n",
    "\n",
    "This is important because every branch should be contained to the issue that it is solving. Therefore, if you are working on different issues for the repository at the same time. You should switch branches accordingly.\n",
    "\n",
    "<span style=\"color:red\">Also, it is good practice to keep a single branch small and focused so it is easy to review and merge "
   ]
  },
  {
   "cell_type": "markdown",
   "metadata": {},
   "source": [
    "##### 1.3 Commit Your Codes Often"
   ]
  },
  {
   "cell_type": "markdown",
   "metadata": {},
   "source": [
    "One common bad habit that has been observe is that new developers do not commit their codes often enough. It is important to commit codes often because it will communicate the changes to other developers on the same project and it also allows for the project to revert to a certain point in time based on the commit.\n",
    "\n",
    "Therefore, it is important for new developer to understand how commit works and commits often. (Refer to the diagram above for below section)\n",
    "\n",
    "```git add -> git commit```\n",
    "\n",
    "The ```git add <filename>``` command adds the changes made to the <b>index</b>(staging). It is bad practice to add all changes in one single ```git add -A``` command. This makes reverting back to previous code version difficult as you want to be able to reverse back to very specific points in \"time\". This mean that it is better for you to add single file or at least files for a particular change.\n",
    "\n",
    "```git commit -m \"text\"``` then make the changes from the <b>index</b>(staging) to the local repository with a text message. This text message is very important and will be covered later.\n",
    " \n",
    "How often is often? It could be after you added a class or made some changes to a function or modification to the documentation. \n",
    "\n",
    "You'll need to make judgement accordingly when is a good time to add and commit. However, usually you will be ```git add``` and ```git commit``` multiple times a day.\n"
   ]
  },
  {
   "cell_type": "markdown",
   "metadata": {},
   "source": [
    "##### 1.4 Do Not Ever Force Push Your Changes"
   ]
  },
  {
   "cell_type": "markdown",
   "metadata": {},
   "source": [
    "```git push```\n",
    "\n",
    "The ```git push``` command is straight forward in the sense it pushes your local work to the remote repository.\n",
    "\n",
    "<span style=\"color:red\">However, DO NOT ever force your git push if there is an issue</span>\n",
    "\n",
    "You may unwittingly \"overwrite\" or \"change\" other team mates work that were pushed earlier. You should always de-conflict with the team if there is an issue."
   ]
  },
  {
   "cell_type": "markdown",
   "metadata": {},
   "source": [
    "##### 1.5 How to write good commit messages?"
   ]
  },
  {
   "cell_type": "markdown",
   "metadata": {},
   "source": [
    "Proper and good commit messages are beneficial because\n",
    "* It's a way of communication between members who work with each other's code.\n",
    "* It can help save time in finding recent changes related to a bug.\n",
    "* It can help us find out where and how to add the code.\n",
    "* It saves you time for your own tasks as people come look for you to explain less.\n",
    "\n",
    "<span style=\"color:red\">The below guidelines are opinionated and differs often depending on projects and teams. Therefore, check with your Lead if he/she has a certain template for your commit messages.<span>\n",
    "\n",
    "<u>Content of the message</u>\n",
    "* It should be easily understandable\n",
    "* It should be unambiguous\n",
    "* It should be just enough and not overtly detailed\n",
    "* A single commit message ideally should contain only 1 kind of change. For example, a bug fix and a minor refactoring should not be committed together.\n",
    "* It should describe the change to the behavior of the code, not the actual code changes which can already be seen.\n",
    "* More intuitively, the messages are answering,\"What are the changes for?\" over \"What are the changes?\".\n",
    "* Specify the type of commit in the title\n",
    "* Specify the issue number or ticket number in the description\n",
    "\n",
    "<u>Formatting of the message</u>\n",
    "\n",
    "* Length of title - below 50 characters <br>\n",
    "* Length of description - up to 72 characters\n",
    "\n",
    "```\n",
    "    git commit -m <title> -m <description>\n",
    "```\n"
   ]
  },
  {
   "cell_type": "code",
   "execution_count": 1,
   "metadata": {},
   "outputs": [
    {
     "data": {
      "text/plain": [
       "'\\n\\ngit commit -m \"add a dataloader function\" -m \"The pipeline class can now load images into pytorch tensor from a csv file that maps images filepath\"\\n\\n'"
      ]
     },
     "execution_count": 1,
     "metadata": {},
     "output_type": "execute_result"
    }
   ],
   "source": [
    "# Example, scroll to see the whole message\n",
    "\n",
    "\"\"\"\n",
    "\n",
    "git commit -m \"add an image dataloader function\" -m \"The pipeline class can now load images into pytorch tensor from a csv file that maps images filepath\"\n",
    "\n",
    "\"\"\""
   ]
  },
  {
   "cell_type": "markdown",
   "metadata": {},
   "source": [
    "##### 1.6 How to Name your Branch in the Repository?"
   ]
  },
  {
   "cell_type": "markdown",
   "metadata": {},
   "source": [
    "Within the gitlab repository, the ```main``` branch will always be protected. No one is supposed to be working in this branch.\n",
    "\n",
    "From the ```main branch```, the Lead will create a ```dev``` branch which all merge requests will be to merge into this ```dev``` branch.\n",
    "\n",
    "One common way to name your issue branch:\n",
    "\n",
    "* issue-number_description_your-name\n",
    "* 28-build_nosql_parser_chrisho\n",
    "\n",
    "The issue-number is the number from the task in the issue board.\n",
    "\n",
    "![image](assets/images/issue_number.jpg)\n",
    "\n",
    "<span style=\"color:red\">However, check with your Lead on the way he/she wants you to name your branches. </span>"
   ]
  },
  {
   "cell_type": "code",
   "execution_count": 2,
   "metadata": {},
   "outputs": [
    {
     "data": {
      "text/plain": [
       "'\\n\\n28-build_nosql_parser_chrisho\\n\\n'"
      ]
     },
     "execution_count": 2,
     "metadata": {},
     "output_type": "execute_result"
    }
   ],
   "source": [
    "# Example for above task\n",
    "\"\"\"\n",
    "\n",
    "28-build_nosql_parser_chrisho\n",
    "\n",
    "\"\"\""
   ]
  },
  {
   "cell_type": "markdown",
   "metadata": {},
   "source": [
    "##### Further Resources\n",
    "\n",
    "1. [githowto-tutorial](https://githowto.com/)\n",
    "2. [reflectoring-meaningful-commit-messages](https://reflectoring.io/meaningful-commit-messages/)\n",
    "3. [freecodecamp-how-to-write-better-git-commit-messages](https://www.freecodecamp.org/news/how-to-write-better-git-commit-messages/)"
   ]
  },
  {
   "cell_type": "markdown",
   "metadata": {},
   "source": [
    "### 2. Basic Coding Styles Guides"
   ]
  },
  {
   "cell_type": "markdown",
   "metadata": {},
   "source": [
    "Main Mantra of this section is quoted from PEP8 in red below. It is the core idea for you to take away.\n",
    "\n",
    "<span style=\"color:red\">\"The guidelines provided here are intended to improve the <b>readability</b> of code and make it <b>consistent</b> across the wide spectrum of Python code.</span>\n",
    "\n",
    "<span style=\"color:red\">A style guide is about consistency. Consistency with this style guide is important. Consistency within a project is <b>MORE</b> important. Consistency within one module or function is the <b>MOST</b> important.\n",
    "</span>\n",
    "\n",
    "Therefore\n",
    "\n",
    "<span style=\"color:red\">Always check with your Lead for any deviation from this guide</span>\n"
   ]
  },
  {
   "cell_type": "markdown",
   "metadata": {},
   "source": [
    "##### 2.1.0 Managing Imports"
   ]
  },
  {
   "cell_type": "markdown",
   "metadata": {},
   "source": [
    "For imports, it is not sufficient to just list them alphabetically. You will need to consider dividing them up into three sections on top of alphabetical order.\n",
    "\n",
    "First section is the Generic/Built-in libraries. These are libraries that comes with Python such as \"os\", \"time\", \"pathlib\" etc\n",
    "\n",
    "Second section is the third-party libraries. These are libraries you've installed into your virtual environment such as pytorch, sklearn etc.\n",
    "\n",
    "Third section is your own custom made modules or packages which you wrote and need to import in.\n",
    "\n",
    "<span style=\"color:red\">Finally, remember to remove any dangling imports which your code is not using."
   ]
  },
  {
   "cell_type": "code",
   "execution_count": 1,
   "metadata": {},
   "outputs": [],
   "source": [
    "### For Notebooks put all your imports at the top ###\n",
    "\n",
    "import yaml\n",
    "\n",
    "### For py files: ###\n",
    "\n",
    "#!/usr/bin/env python\n",
    "\n",
    "####################\n",
    "# Required Modules #\n",
    "####################\n",
    "\n",
    "# Generic/Built-in\n",
    "\n",
    "# Libs\n",
    "\n",
    "# Custom\n",
    "\n",
    "##################\n",
    "# Configurations #\n",
    "##################\n",
    "\n",
    "##################################\n",
    "# All your Classes and Functions #\n",
    "##################################\n",
    "\n",
    "# if __name__ == '__main__':\n",
    "#     pass"
   ]
  },
  {
   "cell_type": "markdown",
   "metadata": {},
   "source": [
    "##### 2.2.0 Naming Convention, Docstrings and Type-Hinting"
   ]
  },
  {
   "cell_type": "code",
   "execution_count": 2,
   "metadata": {},
   "outputs": [],
   "source": [
    "class StoreClass:\n",
    "    \"\"\"\n",
    "    A class to represent a store with functionalities to track and update inventory.\n",
    "\n",
    "    Attributes:\n",
    "    -----------\n",
    "    store_id: str\n",
    "        Unique identifier for the store.\n",
    "    inventory: Dict[str, Tuple[int,float]]\n",
    "        Dictionary of products available in the store. The Keys are product ids and\n",
    "        Values are a tuple containing quantity in store and unit price.\n",
    "    revenue: float\n",
    "        Total revenue for the store.\n",
    "\n",
    "    Methods:\n",
    "    --------\n",
    "    get_total_price(quantity:int, price:float)->float:\n",
    "        This function calculates the total price based on unit quantity and unit price\n",
    "\n",
    "    update_after_sale(self, product_id:str, sold_quantity:int)->None:\n",
    "        This function updates the store inventory and revenue after a sale.\n",
    "    \n",
    "    \"\"\"\n",
    "    def __init__(\n",
    "            self, \n",
    "            store_id:str,\n",
    "            inventory:dict[str,tuple[int,float]],)->None:\n",
    "        \"\"\"\n",
    "        Construct all the necessary attributes for the store object.\n",
    "\n",
    "        Parameters:\n",
    "        -----------\n",
    "        store_id: str\n",
    "            Unique identifier for the store.\n",
    "        inventory: Dict[str, Tuple[int,float]]\n",
    "            Dictionary of products available in the store. The Keys are product ids and\n",
    "            Values are a tuple containing quantity in store and unit price.\n",
    "        revenue: float\n",
    "            Total revenue for the store.\n",
    "        \"\"\"\n",
    "        self.store_id = store_id\n",
    "        self.inventory = inventory\n",
    "        self.revenue = 0.0\n",
    "\n",
    "    @staticmethod\n",
    "    def get_total_price(quantity:int, price:float)->float:\n",
    "        \"\"\"This function calculates the total price based on unit quantity and unit price\n",
    "\n",
    "        Args:\n",
    "            quantity (int): total number of products\n",
    "            price (float): unit price of the product \n",
    "\n",
    "        Returns:\n",
    "            float: total price of the total number of products\n",
    "        \"\"\"\n",
    "        return quantity * price\n",
    "    \n",
    "    def update_after_sale(self, product_id:str, sold_quantity:int)->None:\n",
    "        \"\"\"This function updates the store inventory and revenue after a sale.\n",
    "\n",
    "        Args:\n",
    "            product_id (str): The unique identifier of the product sold\n",
    "            sold_quantity (int): The quantity of the product sold\n",
    "        \n",
    "        Returns:\n",
    "            None\n",
    "        \"\"\"\n",
    "        current_quantity, price = self.inventory[product_id]\n",
    "       \n",
    "        # Update new quantity after sale\n",
    "        new_quantity = current_quantity - sold_quantity\n",
    "        self.inventory[product_id] = (new_quantity, price)\n",
    "        \n",
    "        # Update revenue after sale\n",
    "        self.revenue += self.get_total_price(sold_quantity, price)"
   ]
  },
  {
   "cell_type": "markdown",
   "metadata": {},
   "source": [
    "We will be using the above synthetic simple class and function as an example to demonstrate each component of naming convention, docstrings and typing.\n",
    "\n",
    "<span style=\"color:red\">If you are not familiar with writing classes,future notebooks will touch on how to write a class, subclassing and name mangling etc. "
   ]
  },
  {
   "cell_type": "markdown",
   "metadata": {},
   "source": [
    "##### 2.2.1 Style Guide for Constant, Variables and Functions"
   ]
  },
  {
   "cell_type": "markdown",
   "metadata": {},
   "source": [
    "It is good practice to declare constants through a config.yaml file and written in all capital letters. See below for example."
   ]
  },
  {
   "cell_type": "code",
   "execution_count": 3,
   "metadata": {},
   "outputs": [
    {
     "name": "stdout",
     "output_type": "stream",
     "text": [
      "5\n"
     ]
    }
   ],
   "source": [
    "with open(\"config.yaml\", \"r\") as file:\n",
    "    CONFIG = yaml.safe_load(file)\n",
    "\n",
    "# Constant are declared in all capital letters.\n",
    "NUM_EPOCHS = CONFIG[\"number_epochs\"] \n",
    "\n",
    "print(NUM_EPOCHS)"
   ]
  },
  {
   "cell_type": "markdown",
   "metadata": {},
   "source": [
    "Function name should start with a relevant verb that make sense according to the operation and output.\n",
    "\n",
    "Variable names should be meaningful like \"quantity\" and \"price\" in the example below.\n",
    "\n",
    "Both function and variable names should be lowercase, with words separated by underscores as necessary. These practices will help reader understand your codes easier.\n",
    "\n",
    "On Type-Hinting, it is important to add what are the variable types such as \"int\" and \"float\" in the example to help reader and team to understand what type of data goes into the function. \n",
    "\n",
    "It is also important to document the function's return type which in this case is \"float\".\n",
    "\n",
    "For Docstrings, it is important to write them if the function is of not trivial size or the logic is not intuitive. \n",
    "\n",
    "See below example on how to write \"\"\"Docstrings\"\"\" with details on the arguments and what it returns."
   ]
  },
  {
   "cell_type": "markdown",
   "metadata": {},
   "source": [
    "<img src=\"assets/images/function_variable_names.jpg\">"
   ]
  },
  {
   "cell_type": "markdown",
   "metadata": {},
   "source": [
    "##### 2.2.2 Style Guides for Classes and Methods"
   ]
  },
  {
   "cell_type": "markdown",
   "metadata": {},
   "source": [
    "The class name should be a CamelCase which is to capitalized the first letter of each word without space. It should also have a docstring below to describe the class, attributes and methods. See below for naming example.\n",
    "\n",
    "The class name is usually noun-based.\n",
    "\n",
    "For class methods, it is mostly similar to functions in terms of styles. See full example."
   ]
  },
  {
   "cell_type": "markdown",
   "metadata": {},
   "source": [
    "<img src=\"assets/images/class_naming.jpg\">"
   ]
  },
  {
   "cell_type": "markdown",
   "metadata": {},
   "source": [
    "##### 2.2.3 Additional Guides for Type-Hinting"
   ]
  },
  {
   "cell_type": "markdown",
   "metadata": {},
   "source": [
    "Eventually, you will notice that Type-Hinting is a task that requires diligence. As it may not be enough to say that the variable is a list. \n",
    "\n",
    "You will need to document it is a list of what?\n",
    "\n",
    "This is very important for team mates to understand, integrate or modify codes that you wrote.\n",
    "\n",
    "In the below example, inventory is a dictionary with key that is string and value that is a tuple of an integer and a float."
   ]
  },
  {
   "cell_type": "markdown",
   "metadata": {},
   "source": [
    "<img src=\"assets/images/type-hinting.jpg\">"
   ]
  },
  {
   "cell_type": "code",
   "execution_count": 4,
   "metadata": {},
   "outputs": [
    {
     "name": "stdout",
     "output_type": "stream",
     "text": [
      "{'ID01': (50, 1.2), 'ID02': (25, 3.5)}\n",
      "0.0\n",
      "{'ID01': (40, 1.2), 'ID02': (25, 3.5)}\n",
      "12.0\n"
     ]
    }
   ],
   "source": [
    "# Create Store Inventory Data\n",
    "inventory_data = {\"ID01\":(50,1.2),\"ID02\":(25,3.5)}\n",
    "\n",
    "# Init Store Class\n",
    "my_store= StoreClass(store_id=\"AISG\", inventory=inventory_data)\n",
    "print(my_store.inventory)\n",
    "print(my_store.revenue)\n",
    "\n",
    "# Assume the store sold 10 of ID01\n",
    "my_store.update_after_sale(product_id=\"ID01\", sold_quantity=10)\n",
    "print(my_store.inventory)\n",
    "print(my_store.revenue)"
   ]
  },
  {
   "cell_type": "markdown",
   "metadata": {},
   "source": [
    "##### 2.3.0 Line Break Formatting "
   ]
  },
  {
   "cell_type": "markdown",
   "metadata": {},
   "source": [
    "Typically for readability, PEP8 suggest to limit all lines to a maximum of 79 characters. PEP8 also has suggestions on how to break lines if it gets too long.\n",
    "\n",
    "However, you will notice from different libraries that different developers break their lines differently.\n",
    "\n",
    "<span style=\"color:red\">Therefore, check with your Lead on how he/she wants you to break your long lines. There may even be some instances where longer lines are prefered.<span>"
   ]
  },
  {
   "cell_type": "code",
   "execution_count": 5,
   "metadata": {},
   "outputs": [],
   "source": [
    "# What line breaking looks like?\n",
    "def function(arg_1: str, arg_2: float, arg_3: list[int], arg_4: tuple[int], arg_5: float, arg_6: str) -> None:\n",
    "    pass\n",
    "\n",
    "# Versus below\n",
    "\n",
    "def function(\n",
    "        arg_1: str,\n",
    "        arg_2: float,\n",
    "        arg_3: list[int],\n",
    "        arg_4: tuple[int],\n",
    "        arg_5: float,\n",
    "        arg_6: str) -> None:\n",
    "    pass\n",
    "\n",
    "# Example 2\n",
    "\n",
    "first_number=1\n",
    "second_number=2\n",
    "third_number=3\n",
    "\n",
    "value = (first_number + second_number - third_number)\n",
    "\n",
    "# Break before binary operator. Some may believe the above is still very readable\n",
    "# Hence, check with your Project Lead on the way line should break.\n",
    "\n",
    "value = (first_number\n",
    "         + second_number\n",
    "         - third_number)"
   ]
  },
  {
   "cell_type": "markdown",
   "metadata": {},
   "source": [
    "##### 2.3.1 Automating Code Formatting (Black)"
   ]
  },
  {
   "cell_type": "markdown",
   "metadata": {},
   "source": [
    "Black is a popular code formatting library that can help you auto-format your code with consistency, especially if the entire team adopts it.\n",
    "\n",
    "You can install the extension if you are using VS code.\n",
    "\n",
    "<img src=\"assets/images/black_vscode.png\">\n",
    "\n",
    "<span style=\"color:red\">Do check with your Lead if he/she wants to adopt this."
   ]
  },
  {
   "cell_type": "markdown",
   "metadata": {},
   "source": [
    "##### 2.4.0 Commenting Your Code Inline"
   ]
  },
  {
   "cell_type": "markdown",
   "metadata": {},
   "source": [
    "A program has 2 very different audiences. \n",
    "\n",
    "* Human reader who needs to read your comments at times to understand your code.\n",
    "* Machine who ignores your comments and execute just your code.\n",
    "\n",
    "This means there is a delicate balance for you to practice between what to comment inline and how to comment.\n",
    "\n",
    "You have to comment to help readers understand.\n",
    "\n",
    "But you also don't want to comment unnecessarily and make the file too long with many text that do not add value and becomes hard to maintain down the road when you start making changes.\n",
    "\n",
    "See some best practices below."
   ]
  },
  {
   "cell_type": "code",
   "execution_count": 6,
   "metadata": {},
   "outputs": [],
   "source": [
    "# Make comments meaningful. Comments should not duplicate code.\n",
    "\n",
    "# Good comments explain why code is written the way it is.\n",
    "\n",
    "# Use clear and concise language.\n",
    "\n",
    "# Comment on your classes, methods and functions (context)\n",
    "\n",
    "# Include relevant links from documentation, stackoverflow, research papers\n",
    "\n",
    "# If you find it hard to comment, there is probably something wrong with the code.\n",
    "\n",
    "# Don't over-comment"
   ]
  },
  {
   "cell_type": "markdown",
   "metadata": {},
   "source": [
    "### 3. Managing Project Elements"
   ]
  },
  {
   "cell_type": "markdown",
   "metadata": {},
   "source": [
    "##### 3.1.0 Managing Folder Structures"
   ]
  },
  {
   "cell_type": "markdown",
   "metadata": {},
   "source": [
    "It is important to get the project structure correct at the start, so you won't have to deal with the conflicts down the line when your team mates have a different project structure in mind.\n",
    "\n",
    "This is a typical AI/ML project structure.\n",
    "\n",
    "<span style=\"color:red\">However, project structure is also very dependent on the type of project and scope. Therefore, check with your Lead on the project structure early on to reduce conflicts later on.<span>\n",
    "\n",
    "```\n",
    "data/\n",
    "    input/\n",
    "        {name_version}/\n",
    "            train/\n",
    "            test/\n",
    "            validation/\n",
    "    output/\n",
    "        {experiment}/\n",
    "            prediction/\n",
    "src/\n",
    "    __init__.py\n",
    "    main.py\n",
    "    module.py\n",
    "    package/\n",
    "        __init__.py\n",
    "        package_module.py\n",
    "config.yaml\n",
    ".env\n",
    ".gitignore\n",
    "requirement.txt\n",
    "README.md\n",
    "\n",
    "```"
   ]
  },
  {
   "cell_type": "markdown",
   "metadata": {},
   "source": [
    "##### 3.2.0 Managing Environment Variables and Configurations"
   ]
  },
  {
   "cell_type": "markdown",
   "metadata": {},
   "source": [
    "<span style=\"color:red\"> Not just don't push, NEVER commit your secrets, keys, password and sensitive file paths to Git. Always use a .env file to store them.<span>\n",
    "\n",
    "You can see the example below on how to use .env to load your environment variables.\n",
    "\n",
    "At the same time, you also don't want to hard-code any configuration or hyper-parameter into the code itself. For such variables, use a config.yaml file instead. Load the configuration after your imports before your code starts."
   ]
  },
  {
   "cell_type": "code",
   "execution_count": 3,
   "metadata": {},
   "outputs": [
    {
     "name": "stdout",
     "output_type": "stream",
     "text": [
      "None\n",
      "5\n"
     ]
    }
   ],
   "source": [
    "import os\n",
    "import yaml\n",
    "\n",
    "from dotenv import load_dotenv\n",
    "\n",
    "load_dotenv()\n",
    "\n",
    "# change .env.example to .env in order to load the data\n",
    "SECRET_KEY = os.getenv(\"SECRET_KEY\")\n",
    "print(SECRET_KEY)\n",
    "\n",
    "with open(\"config.yaml\", \"r\") as file:\n",
    "    CONFIG = yaml.safe_load(file)\n",
    "\n",
    "# load configuration after import before your code start\n",
    "NUM_EPOCHS = CONFIG[\"number_epochs\"] \n",
    "\n",
    "print(NUM_EPOCHS)"
   ]
  }
 ],
 "metadata": {
  "kernelspec": {
   "display_name": "coding",
   "language": "python",
   "name": "python3"
  },
  "language_info": {
   "codemirror_mode": {
    "name": "ipython",
    "version": 3
   },
   "file_extension": ".py",
   "mimetype": "text/x-python",
   "name": "python",
   "nbconvert_exporter": "python",
   "pygments_lexer": "ipython3",
   "version": "3.12.4"
  }
 },
 "nbformat": 4,
 "nbformat_minor": 2
}
