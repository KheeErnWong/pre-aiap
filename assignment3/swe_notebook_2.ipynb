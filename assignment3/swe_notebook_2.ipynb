{
 "cells": [
  {
   "cell_type": "markdown",
   "metadata": {},
   "source": [
    "## Software (Python) Engineering Notebook 2"
   ]
  },
  {
   "cell_type": "markdown",
   "metadata": {},
   "source": [
    "The Software (Python) Engineering Notebook 2 mainly serves as a condensed course for incoming new developers who knows python but do not have much experience writing classes.\n",
    "\n",
    "It also contains a few recommended ways to work with packing data and dealing with for loops. These recommendations in general will help new developer write cleaner codes."
   ]
  },
  {
   "cell_type": "code",
   "execution_count": 1,
   "metadata": {},
   "outputs": [],
   "source": [
    "import itertools as iter\n",
    "import numpy as np\n",
    "import time"
   ]
  },
  {
   "cell_type": "markdown",
   "metadata": {},
   "source": [
    "### 1. What is Class in Python? (Part 1)"
   ]
  },
  {
   "cell_type": "markdown",
   "metadata": {},
   "source": [
    "If a function is a code template to create operations in Python. A class is a code template to create Objects. \n",
    "\n",
    "What are Objects then? \n",
    "\n",
    "An object in Python is like a container for <span style=\"color:red\">data(attributes) related to that object and functions(methods) related to that object.<span> \n",
    "\n",
    "The object itself will represent a logical building block for the larger codebase.\n",
    "\n",
    "Let's see this in code below"
   ]
  },
  {
   "cell_type": "code",
   "execution_count": 2,
   "metadata": {},
   "outputs": [],
   "source": [
    "class Node:\n",
    "    \"\"\"\n",
    "    A Node class to represent random values and a pointer to the next node in the chain.\n",
    "\n",
    "    Attributes:\n",
    "    -----------\n",
    "    node_id:\n",
    "        Index number for the node based on order\n",
    "    value:\n",
    "        Variable to store numpy array as information\n",
    "    child:\n",
    "        Next Node in the chain\n",
    "    \n",
    "    Methods:\n",
    "    --------\n",
    "    No methods\n",
    "    \"\"\"\n",
    "    def __init__(self, node_id: int=0, next=None):\n",
    "        self.node_id = node_id\n",
    "        self.next = next\n",
    "        self.value = np.random.randint(5, size=5)\n",
    "\n",
    "    def sum_value(self):\n",
    "        return np.sum(self.value)\n",
    "    \n",
    "    def method_inherit(self):\n",
    "        return f\"I can still activate {self.method_inherit.__name__}\""
   ]
  },
  {
   "cell_type": "markdown",
   "metadata": {},
   "source": [
    "The Node class represent a template for creating multiple nodes. Each node can contain different attributes and methods.\n",
    "\n",
    "The current attributes for the Node class are as follows:\n",
    "\n",
    "* node_id\n",
    "* next\n",
    "* value\n",
    "\n",
    "At the initialization of the class, the object will store the default attributes' values such as node_id = 0 and next = None. The ```value``` will store the output from the operation \"np.random.randint()\"\n",
    "\n",
    "This object will also contain a method which will sum the array of values that is stored at it's ```value``` attribute.\n",
    "\n",
    "```self``` refers to the object itself.\n",
    "\n",
    "Note: Ignore method_inherit for now."
   ]
  },
  {
   "cell_type": "code",
   "execution_count": 3,
   "metadata": {},
   "outputs": [
    {
     "name": "stdout",
     "output_type": "stream",
     "text": [
      "Node id: 1 contains array [0 2 1 2 3] and it's sum is 8\n",
      "Node id: 2 contains array [1 1 0 4 4] and it's sum is 10\n"
     ]
    }
   ],
   "source": [
    "node_A = Node(node_id=1)\n",
    "node_B = Node(node_id=2)\n",
    "\n",
    "print(f\"Node id: {node_A.node_id} contains array {node_A.value} and it's sum is {node_A.sum_value()}\")\n",
    "print(f\"Node id: {node_B.node_id} contains array {node_B.value} and it's sum is {node_B.sum_value()}\")"
   ]
  },
  {
   "cell_type": "markdown",
   "metadata": {},
   "source": [
    "As you can see from the example above, we can create multiple instances of the Node class with different attributes value."
   ]
  },
  {
   "cell_type": "markdown",
   "metadata": {},
   "source": [
    "##### 1.1.0 Choosing between Function and Class"
   ]
  },
  {
   "cell_type": "markdown",
   "metadata": {},
   "source": [
    "Now that you understand what a Class is, should you still write simple functions without a class?\n",
    "\n",
    "The delineation of functions and classes in theory is clear. Functions carry out operations, Classes encapsulate logic. However as programmers, we often find ourselves in a dilemma of when to use functions and when to use classes.\n",
    "\n",
    "Here are several questions that can be asked and use as guidelines:\n",
    "\n",
    "* <span style=\"color:red\">Do I need to store state?\n",
    "* <span style=\"color:red\">Are my functions frequently calling functions inside a proposed class?\n",
    "* <span style=\"color:red\">Should I be using a utils.py instead to collate utility functions?\n",
    "* <span style=\"color:red\">What is the administrative overhead of creating a class?\n",
    "* <span style=\"color:red\">Are writing a bunch of functions easier than writing a class?\n",
    "* <span style=\"color:red\">Am I building different things out of a common base?\n",
    "* <span style=\"color:red\">Would I end up with memory issues due to the number of instances and states stored?\n",
    "\n",
    "At the end of the day, it depends on the individual engineer assessment on what works best for the problem at hand."
   ]
  },
  {
   "cell_type": "markdown",
   "metadata": {},
   "source": [
    "##### 1.2.0 Subclassing or Class Inheritance and To Super Init or Not?"
   ]
  },
  {
   "cell_type": "markdown",
   "metadata": {},
   "source": [
    "What is Class Inheritance?\n",
    "\n",
    "Class Inheritance is the technique that allow us to write another class that takes on the parent class's attributes and methods. We do this when we want to extend the parent's class functionality.\n",
    "\n",
    "We can do this through super().__ init __()"
   ]
  },
  {
   "cell_type": "markdown",
   "metadata": {},
   "source": [
    "The next cell will show you how this can be done to ```Node``` using super().__ init __() to create a new class ```class ChainNodes(Nodes):```.\n",
    "\n",
    "<span style=\"color:red\">Docstrings are removed to save space for you to look at the entire class as one and ease of explanation in the next few cells."
   ]
  },
  {
   "cell_type": "code",
   "execution_count": 4,
   "metadata": {},
   "outputs": [],
   "source": [
    "class ChainNodes(Node):\n",
    "\n",
    "    def __init__(self):\n",
    "        super().__init__()\n",
    "\n",
    "    def chain_nodes(self, max_depth:int):\n",
    "\n",
    "        def _chain_recursive(node, max_depth=max_depth):\n",
    "            if node.node_id == max_depth:\n",
    "                return                \n",
    "            \n",
    "            new_node = Node(node_id=node.node_id + 1)\n",
    "            node.next = new_node\n",
    "            \n",
    "            _chain_recursive(new_node, max_depth=max_depth)\n",
    "\n",
    "        _chain_recursive(self)\n",
    "            \n",
    "\n",
    "    def visualize(self):\n",
    "\n",
    "        def _visualize_recursive(node):\n",
    "            if node is None:\n",
    "                return\n",
    "            \n",
    "            print(f\"Node {node.node_id}: Value = {node.value}\")\n",
    "            \n",
    "            _visualize_recursive(node.next)\n",
    "        \n",
    "        _visualize_recursive(self)"
   ]
  },
  {
   "cell_type": "markdown",
   "metadata": {},
   "source": [
    "```\n",
    "class ChainNodes(Node):\n",
    "    \n",
    "    def __init__(self):\n",
    "        super().__init__()\n",
    "```\n",
    "\n",
    "The above is the portion of the code that will cause the ```ChainNode``` class to inherit the attributes of the ```Node``` class along with the methods. See the next example below"
   ]
  },
  {
   "cell_type": "code",
   "execution_count": 5,
   "metadata": {},
   "outputs": [
    {
     "name": "stdout",
     "output_type": "stream",
     "text": [
      "0\n",
      "None\n",
      "[1 4 3 0 2]\n",
      "10\n"
     ]
    }
   ],
   "source": [
    "chain = ChainNodes()\n",
    "print(chain.node_id)\n",
    "print(chain.next)\n",
    "print(chain.value)\n",
    "print(chain.sum_value())"
   ]
  },
  {
   "cell_type": "markdown",
   "metadata": {},
   "source": [
    "You can see that the ```chain``` has inherited the Node class's attributes and as well as the method ```sum_value```.\n",
    "\n",
    "Now, it is time to talk about the ```next``` attribute.\n",
    "\n",
    "The ```next``` value is None because it is meant as a pointer to the next Node which will be created by the ```chain_nodes``` function. This function creates nodes and points to the next node it creates recursively\n",
    "\n",
    "```\n",
    "    def chain_nodes(self, max_depth:int):\n",
    "\n",
    "        def _chain_recursive(node, max_depth=max_depth):\n",
    "            if node.node_id == max_depth:\n",
    "                return                \n",
    "            \n",
    "            new_node = Node(node_id=node.node_id + 1)\n",
    "            node.next = new_node\n",
    "            \n",
    "            _chain_recursive(new_node, max_depth=max_depth)\n",
    "\n",
    "        _chain_recursive(self)\n",
    "```\n",
    "So the ChainNodes class extended the Node class feature by being able to create multiple Node objects and connect them. See below ```print``` statements to understand better what attributes have been stored."
   ]
  },
  {
   "cell_type": "code",
   "execution_count": 6,
   "metadata": {},
   "outputs": [
    {
     "name": "stdout",
     "output_type": "stream",
     "text": [
      "Node 0: Value = [3 2 0 1 3]\n",
      "Node 1: Value = [4 0 0 3 4]\n",
      "Node 2: Value = [0 2 3 3 1]\n",
      "Node 3: Value = [3 3 3 4 3]\n",
      "None\n",
      "0\n",
      "[3 2 0 1 3]\n",
      "9\n",
      "1\n",
      "[4 0 0 3 4]\n",
      "11\n"
     ]
    }
   ],
   "source": [
    "chain = ChainNodes()\n",
    "chain.chain_nodes(max_depth=3)\n",
    "print(chain.visualize())\n",
    "print(chain.node_id)\n",
    "print(chain.value)\n",
    "print(chain.sum_value())\n",
    "print(chain.next.node_id)\n",
    "print(chain.next.value)\n",
    "print(chain.next.sum_value())"
   ]
  },
  {
   "cell_type": "markdown",
   "metadata": {},
   "source": [
    "(Sidetrack) This node structure is dfferent from a tree node or neural net node structure. However, conceptually they are very similar. You should be able to see how classes can contain common logic within and at the same time separate out different logic to other classes.\n",
    "\n",
    "<span style=\"color:red\">Although super().__ init __() is very powerful, it is not mandatory in writing class.<span>\n",
    "\n",
    "See the below implementation to understand a different way of implementing the above logic. There is no ```super().__ init __()``` and generator comprehension is used instead."
   ]
  },
  {
   "cell_type": "code",
   "execution_count": 7,
   "metadata": {},
   "outputs": [],
   "source": [
    "class LinkNodes(Node):\n",
    "\n",
    "    def __init__(self):\n",
    "        self.head=None\n",
    "\n",
    "    def link_nodes(self, max_depth:int):\n",
    "        # generator comprehension\n",
    "        generator=(Node(node_id=i) for i in range(max_depth+1))\n",
    "\n",
    "        curr_node = next(generator)\n",
    "        self.head = curr_node\n",
    "\n",
    "        for node in generator:\n",
    "            curr_node.next = node\n",
    "            curr_node = node\n",
    "\n",
    "    @staticmethod\n",
    "    def visualize(node):\n",
    "\n",
    "        def _visualize_recursive(node):\n",
    "            if node is None:\n",
    "                return\n",
    "            \n",
    "            print(f\"Node {node.node_id}: Value = {node.value}\")\n",
    "            \n",
    "            _visualize_recursive(node.next)\n",
    "        \n",
    "        _visualize_recursive(node)"
   ]
  },
  {
   "cell_type": "code",
   "execution_count": 8,
   "metadata": {},
   "outputs": [
    {
     "name": "stdout",
     "output_type": "stream",
     "text": [
      "'LinkNodes' object has no attribute 'node_id'\n",
      "I can still activate method_inherit\n",
      "'LinkNodes' object has no attribute 'value'\n"
     ]
    }
   ],
   "source": [
    "chain = LinkNodes()\n",
    "\n",
    "try:\n",
    "    chain.node_id\n",
    "except Exception as e:\n",
    "    print(e)\n",
    "\n",
    "try:\n",
    "    print(chain.method_inherit())\n",
    "except Exception as e:\n",
    "    print(e)\n",
    "\n",
    "try:\n",
    "    print(chain.sum_value())\n",
    "except Exception as e:\n",
    "    print(e)"
   ]
  },
  {
   "cell_type": "markdown",
   "metadata": {},
   "source": [
    "The difference here is that ```chain``` does not have the Node's attribute but still inherits the Node's method. \n",
    "\n",
    "But why would we want to write something like that? \n",
    "\n",
    "It depends on the logic of the problem statement.\n",
    "\n",
    "Let's see the below demo."
   ]
  },
  {
   "cell_type": "code",
   "execution_count": 9,
   "metadata": {},
   "outputs": [
    {
     "name": "stdout",
     "output_type": "stream",
     "text": [
      "Node 0: Value = [2 0 2 1 1]\n",
      "Node 1: Value = [1 4 4 4 2]\n",
      "Node 2: Value = [0 2 4 4 0]\n",
      "Node 3: Value = [2 3 0 3 1]\n",
      "None\n"
     ]
    }
   ],
   "source": [
    "chain.link_nodes(max_depth=3)\n",
    "print(chain.visualize(chain.head))"
   ]
  },
  {
   "cell_type": "markdown",
   "metadata": {},
   "source": [
    "As you can see now, the first node is stored at ```chain.head``` instead of ```chain```. But why would we do something like this? In our example, we shouldn't do this because we are trying to simply chain up nodes. \n",
    "\n",
    "However, what if we are trying to chain up nodes that belong to a Tree? A Tree is not a node, so the tree should not inherit the Node's class attribute. In this case, we can store the first node of the tree as root node in the tree's attribute instead. \n",
    "\n",
    "This will encapsulate the logic of a Node and the logic of a Tree better."
   ]
  },
  {
   "cell_type": "markdown",
   "metadata": {},
   "source": [
    "<span style=\"color:red\">Note: The function within the class has changed from recursive to generator comprehension. This is not due to the class requirements, but rather as a demonstration that the same logic can be written in different ways and we should be open to trying different implementation methods to improve our code quality.<span>"
   ]
  },
  {
   "cell_type": "markdown",
   "metadata": {},
   "source": [
    "### 2. Packing and Unpacking in Python"
   ]
  },
  {
   "cell_type": "markdown",
   "metadata": {},
   "source": [
    "One of the most common thing that we do in coding is packing and unpacking of variables. In this section, we will look at some of the ways we can pack and unpack variables in Python efficiently."
   ]
  },
  {
   "cell_type": "code",
   "execution_count": 10,
   "metadata": {},
   "outputs": [
    {
     "data": {
      "text/plain": [
       "array([[1.41948438, 0.7583901 , 1.54077774],\n",
       "       [1.83883162, 1.31490136, 2.21907052]])"
      ]
     },
     "execution_count": 10,
     "metadata": {},
     "output_type": "execute_result"
    }
   ],
   "source": [
    "x = np.random.rand(2, 5)\n",
    "\n",
    "def numpy_layer(x, input_size, output_size):\n",
    "    weight = np.random.rand(output_size, input_size)\n",
    "    bias = np.random.rand(output_size)\n",
    "    return np.dot(x, weight.T) + bias\n",
    "\n",
    "mylist = [x, 5, 3]\n",
    "numpy_layer(*mylist)"
   ]
  },
  {
   "cell_type": "markdown",
   "metadata": {},
   "source": [
    "The \" * \" in above example can be helpful in unpacking arguments into a function. It unpacks [x,5,3] for x, input_size and output_size.\n",
    "\n",
    "We can also pack unspecific number of arguments into a function using \" * \" as shown below. This allows the function ```get_mean``` to take in unspecified number of arguments."
   ]
  },
  {
   "cell_type": "code",
   "execution_count": 11,
   "metadata": {},
   "outputs": [
    {
     "data": {
      "text/plain": [
       "np.float64(3.6)"
      ]
     },
     "execution_count": 11,
     "metadata": {},
     "output_type": "execute_result"
    }
   ],
   "source": [
    "def get_mean(*arg):\n",
    "    return np.mean(*arg)\n",
    "\n",
    "values = [1,2,4,5,6]\n",
    "get_mean(values)"
   ]
  },
  {
   "cell_type": "markdown",
   "metadata": {},
   "source": [
    "For key-word arguments, we can use \"**kwargs\" instead. This unpacks the dictionary in the function."
   ]
  },
  {
   "cell_type": "code",
   "execution_count": 12,
   "metadata": {},
   "outputs": [
    {
     "name": "stdout",
     "output_type": "stream",
     "text": [
      "11500\n"
     ]
    }
   ],
   "source": [
    "def get_total_salary(**kwargs):\n",
    "    \n",
    "    total_salary = 0\n",
    "\n",
    "    for _, arg in kwargs.items():\n",
    "        total_salary += arg\n",
    "    \n",
    "    return total_salary\n",
    "\n",
    "dict_A = {\"chris\":1000,\"Tommy\":10500}\n",
    "print(get_total_salary(**dict_A))"
   ]
  },
  {
   "cell_type": "markdown",
   "metadata": {},
   "source": [
    "You can also unpack variables neatly without calling index of a list or tuple multiple times."
   ]
  },
  {
   "cell_type": "code",
   "execution_count": 13,
   "metadata": {},
   "outputs": [],
   "source": [
    "words = ('walk','the','dog')\n",
    "verb = words[0]\n",
    "nonstop = words[1]\n",
    "noun = words[2]\n",
    "\n",
    "# Neater way\n",
    "verb, nonstop, noun = words"
   ]
  },
  {
   "cell_type": "markdown",
   "metadata": {},
   "source": [
    "```zip``` in python is a useful function to take multiple iterables and map the values into one iterable object based on index."
   ]
  },
  {
   "cell_type": "code",
   "execution_count": 14,
   "metadata": {},
   "outputs": [
    {
     "name": "stdout",
     "output_type": "stream",
     "text": [
      "('Alice', 'Tan')\n",
      "('Bernard', 'Goh')\n",
      "('Cathy', 'Wong')\n"
     ]
    }
   ],
   "source": [
    "a = (\"Alice\",\"Bernard\",\"Cathy\")\n",
    "b = (\"Tan\",\"Goh\",\"Wong\")\n",
    "\n",
    "# names is the iterable object combining a and b\n",
    "names = zip(a,b)\n",
    "\n",
    "a, b, c = names\n",
    "print(a)\n",
    "print(b)\n",
    "print(c)"
   ]
  },
  {
   "cell_type": "markdown",
   "metadata": {},
   "source": [
    "It can also help you unpack two dictionaries at the same time. This allows you to iterate through multiple dictionaries in a safe and coherent way."
   ]
  },
  {
   "cell_type": "code",
   "execution_count": 15,
   "metadata": {},
   "outputs": [
    {
     "name": "stdout",
     "output_type": "stream",
     "text": [
      "('first_name', 'Bernard')\n",
      "('first_name', 'Alice')\n",
      "('last_name', 'Goh')\n",
      "('last_name', 'Tan')\n",
      "('role', 'AI Engineer')\n",
      "('role', 'Data Scientist')\n"
     ]
    }
   ],
   "source": [
    "# Unpacking dictionary items in parallel\n",
    "dict_a ={\"first_name\":\"Bernard\",\"last_name\":\"Goh\",\"role\":\"AI Engineer\"}\n",
    "dict_b ={\"first_name\":\"Alice\",\"last_name\":\"Tan\",\"role\":\"Data Scientist\"}\n",
    "\n",
    "for x, y in zip(dict_a.items(),dict_b.items()):\n",
    "    print(x)\n",
    "    print(y)"
   ]
  },
  {
   "cell_type": "markdown",
   "metadata": {},
   "source": [
    "### 3. Looping beyond For Loops: Itertools, Map and List Comprehension"
   ]
  },
  {
   "cell_type": "markdown",
   "metadata": {},
   "source": [
    "##### 3.1.0 Itertools: using Product()"
   ]
  },
  {
   "cell_type": "markdown",
   "metadata": {},
   "source": [
    "itertools.product() calculates cartesian product on iterables. The logic is equivalent to nested for loops.\n",
    "\n",
    "So product of A & B is the same as:\n",
    "\n",
    "```\n",
    "mylist = []\n",
    "for x in A:\n",
    "    for y in B:\n",
    "        mylist.append((x,y))\n",
    "```\n",
    "\n",
    "See the example below"
   ]
  },
  {
   "cell_type": "code",
   "execution_count": 16,
   "metadata": {},
   "outputs": [
    {
     "name": "stdout",
     "output_type": "stream",
     "text": [
      "[[375.]\n",
      " [375.]\n",
      " [375.]\n",
      " [375.]\n",
      " [375.]]\n"
     ]
    }
   ],
   "source": [
    "a = np.ones((5,1))\n",
    "b = np.ones((5,1))\n",
    "c = np.ones((5,1))\n",
    "\n",
    "num = np.zeros((5,1))\n",
    "\n",
    "for x, y, z in iter.product(a,b,c):\n",
    "    num += x + y + z\n",
    "\n",
    "print(num)"
   ]
  },
  {
   "cell_type": "markdown",
   "metadata": {},
   "source": [
    "##### 3.2.0 Map: Using map() for readability"
   ]
  },
  {
   "cell_type": "markdown",
   "metadata": {},
   "source": [
    "There are some cases where using map() will read better than for loop and list comprehension.\n",
    "\n",
    "<span style=\"color:red\">Note that these are very opinionated guidelines on how to write loops. Please refer to your Lead for their opinions."
   ]
  },
  {
   "cell_type": "code",
   "execution_count": 17,
   "metadata": {},
   "outputs": [
    {
     "name": "stdout",
     "output_type": "stream",
     "text": [
      "[2, 0, 1]\n",
      "[2, 0, 1]\n",
      "[2, 0, 1]\n"
     ]
    }
   ],
   "source": [
    "a = [1,2,3]\n",
    "b = [5,6,7]\n",
    "c = [4,8,9]\n",
    "\n",
    "def process_arrays(x,y,z):\n",
    "    return x+y-z\n",
    "\n",
    "# the loop is easy to read but longer\n",
    "nums =[]\n",
    "for x in range(len(a)):\n",
    "    num=process_arrays(a[x],b[x],c[x])\n",
    "    nums.append(num)\n",
    "print(nums)\n",
    "\n",
    "# list comprehension is nice but harder to read (subjective)\n",
    "list_nums = [process_arrays(a[x],b[x],c[x]) for x in range(len(a))]\n",
    "print(list_nums)\n",
    "\n",
    "# map in this case will be neater\n",
    "map_nums=list(map(process_arrays, a, b, c))\n",
    "print(map_nums)\n"
   ]
  },
  {
   "cell_type": "markdown",
   "metadata": {},
   "source": [
    "##### 3.3.0 Using List Comprehension for Loops"
   ]
  },
  {
   "cell_type": "markdown",
   "metadata": {},
   "source": [
    "List Comprehension is generally a better way to write a for loop if there isn't a lot of operations at each loop.\n",
    "\n",
    "Take the function ```square``` below, if we want to ```square``` every value in a list. List Comprehension will work very well."
   ]
  },
  {
   "cell_type": "code",
   "execution_count": 18,
   "metadata": {},
   "outputs": [
    {
     "name": "stdout",
     "output_type": "stream",
     "text": [
      "[0, 1, 4, 9, 16, 25, 36, 49, 64, 81, 100, 121, 144, 169, 196, 225, 256, 289, 324, 361, 400, 441, 484, 529, 576, 625, 676, 729, 784, 841, 900, 961, 1024, 1089, 1156, 1225, 1296, 1369, 1444, 1521, 1600, 1681, 1764, 1849, 1936, 2025, 2116, 2209, 2304, 2401, 2500, 2601, 2704, 2809, 2916, 3025, 3136, 3249, 3364, 3481, 3600, 3721, 3844, 3969, 4096, 4225, 4356, 4489, 4624, 4761, 4900, 5041, 5184, 5329, 5476, 5625, 5776, 5929, 6084, 6241, 6400, 6561, 6724, 6889, 7056, 7225, 7396, 7569, 7744, 7921, 8100, 8281, 8464, 8649, 8836, 9025, 9216, 9409, 9604, 9801, 10000, 10201, 10404, 10609, 10816, 11025, 11236, 11449, 11664, 11881, 12100, 12321, 12544, 12769, 12996, 13225, 13456, 13689, 13924, 14161, 14400, 14641, 14884, 15129, 15376, 15625, 15876, 16129, 16384, 16641, 16900, 17161, 17424, 17689, 17956, 18225, 18496, 18769, 19044, 19321, 19600, 19881, 20164, 20449, 20736, 21025, 21316, 21609, 21904, 22201, 22500, 22801, 23104, 23409, 23716, 24025, 24336, 24649, 24964, 25281, 25600, 25921, 26244, 26569, 26896, 27225, 27556, 27889, 28224, 28561, 28900, 29241, 29584, 29929, 30276, 30625, 30976, 31329, 31684, 32041, 32400, 32761, 33124, 33489, 33856, 34225, 34596, 34969, 35344, 35721, 36100, 36481, 36864, 37249, 37636, 38025, 38416, 38809, 39204, 39601, 40000, 40401, 40804, 41209, 41616, 42025, 42436, 42849, 43264, 43681, 44100, 44521, 44944, 45369, 45796, 46225, 46656, 47089, 47524, 47961, 48400, 48841, 49284, 49729, 50176, 50625, 51076, 51529, 51984, 52441, 52900, 53361, 53824, 54289, 54756, 55225, 55696, 56169, 56644, 57121, 57600, 58081, 58564, 59049, 59536, 60025, 60516, 61009, 61504, 62001, 62500, 63001, 63504, 64009, 64516, 65025, 65536, 66049, 66564, 67081, 67600, 68121, 68644, 69169, 69696, 70225, 70756, 71289, 71824, 72361, 72900, 73441, 73984, 74529, 75076, 75625, 76176, 76729, 77284, 77841, 78400, 78961, 79524, 80089, 80656, 81225, 81796, 82369, 82944, 83521, 84100, 84681, 85264, 85849, 86436, 87025, 87616, 88209, 88804, 89401, 90000, 90601, 91204, 91809, 92416, 93025, 93636, 94249, 94864, 95481, 96100, 96721, 97344, 97969, 98596, 99225, 99856, 100489, 101124, 101761, 102400, 103041, 103684, 104329, 104976, 105625, 106276, 106929, 107584, 108241, 108900, 109561, 110224, 110889, 111556, 112225, 112896, 113569, 114244, 114921, 115600, 116281, 116964, 117649, 118336, 119025, 119716, 120409, 121104, 121801, 122500, 123201, 123904, 124609, 125316, 126025, 126736, 127449, 128164, 128881, 129600, 130321, 131044, 131769, 132496, 133225, 133956, 134689, 135424, 136161, 136900, 137641, 138384, 139129, 139876, 140625, 141376, 142129, 142884, 143641, 144400, 145161, 145924, 146689, 147456, 148225, 148996, 149769, 150544, 151321, 152100, 152881, 153664, 154449, 155236, 156025, 156816, 157609, 158404, 159201, 160000, 160801, 161604, 162409, 163216, 164025, 164836, 165649, 166464, 167281, 168100, 168921, 169744, 170569, 171396, 172225, 173056, 173889, 174724, 175561, 176400, 177241, 178084, 178929, 179776, 180625, 181476, 182329, 183184, 184041, 184900, 185761, 186624, 187489, 188356, 189225, 190096, 190969, 191844, 192721, 193600, 194481, 195364, 196249, 197136, 198025, 198916, 199809, 200704, 201601, 202500, 203401, 204304, 205209, 206116, 207025, 207936, 208849, 209764, 210681, 211600, 212521, 213444, 214369, 215296, 216225, 217156, 218089, 219024, 219961, 220900, 221841, 222784, 223729, 224676, 225625, 226576, 227529, 228484, 229441, 230400, 231361, 232324, 233289, 234256, 235225, 236196, 237169, 238144, 239121, 240100, 241081, 242064, 243049, 244036, 245025, 246016, 247009, 248004, 249001, 250000, 251001, 252004, 253009, 254016, 255025, 256036, 257049, 258064, 259081, 260100, 261121, 262144, 263169, 264196, 265225, 266256, 267289, 268324, 269361, 270400, 271441, 272484, 273529, 274576, 275625, 276676, 277729, 278784, 279841, 280900, 281961, 283024, 284089, 285156, 286225, 287296, 288369, 289444, 290521, 291600, 292681, 293764, 294849, 295936, 297025, 298116, 299209, 300304, 301401, 302500, 303601, 304704, 305809, 306916, 308025, 309136, 310249, 311364, 312481, 313600, 314721, 315844, 316969, 318096, 319225, 320356, 321489, 322624, 323761, 324900, 326041, 327184, 328329, 329476, 330625, 331776, 332929, 334084, 335241, 336400, 337561, 338724, 339889, 341056, 342225, 343396, 344569, 345744, 346921, 348100, 349281, 350464, 351649, 352836, 354025, 355216, 356409, 357604, 358801, 360000, 361201, 362404, 363609, 364816, 366025, 367236, 368449, 369664, 370881, 372100, 373321, 374544, 375769, 376996, 378225, 379456, 380689, 381924, 383161, 384400, 385641, 386884, 388129, 389376, 390625, 391876, 393129, 394384, 395641, 396900, 398161, 399424, 400689, 401956, 403225, 404496, 405769, 407044, 408321, 409600, 410881, 412164, 413449, 414736, 416025, 417316, 418609, 419904, 421201, 422500, 423801, 425104, 426409, 427716, 429025, 430336, 431649, 432964, 434281, 435600, 436921, 438244, 439569, 440896, 442225, 443556, 444889, 446224, 447561, 448900, 450241, 451584, 452929, 454276, 455625, 456976, 458329, 459684, 461041, 462400, 463761, 465124, 466489, 467856, 469225, 470596, 471969, 473344, 474721, 476100, 477481, 478864, 480249, 481636, 483025, 484416, 485809, 487204, 488601, 490000, 491401, 492804, 494209, 495616, 497025, 498436, 499849, 501264, 502681, 504100, 505521, 506944, 508369, 509796, 511225, 512656, 514089, 515524, 516961, 518400, 519841, 521284, 522729, 524176, 525625, 527076, 528529, 529984, 531441, 532900, 534361, 535824, 537289, 538756, 540225, 541696, 543169, 544644, 546121, 547600, 549081, 550564, 552049, 553536, 555025, 556516, 558009, 559504, 561001, 562500, 564001, 565504, 567009, 568516, 570025, 571536, 573049, 574564, 576081, 577600, 579121, 580644, 582169, 583696, 585225, 586756, 588289, 589824, 591361, 592900, 594441, 595984, 597529, 599076, 600625, 602176, 603729, 605284, 606841, 608400, 609961, 611524, 613089, 614656, 616225, 617796, 619369, 620944, 622521, 624100, 625681, 627264, 628849, 630436, 632025, 633616, 635209, 636804, 638401, 640000, 641601, 643204, 644809, 646416, 648025, 649636, 651249, 652864, 654481, 656100, 657721, 659344, 660969, 662596, 664225, 665856, 667489, 669124, 670761, 672400, 674041, 675684, 677329, 678976, 680625, 682276, 683929, 685584, 687241, 688900, 690561, 692224, 693889, 695556, 697225, 698896, 700569, 702244, 703921, 705600, 707281, 708964, 710649, 712336, 714025, 715716, 717409, 719104, 720801, 722500, 724201, 725904, 727609, 729316, 731025, 732736, 734449, 736164, 737881, 739600, 741321, 743044, 744769, 746496, 748225, 749956, 751689, 753424, 755161, 756900, 758641, 760384, 762129, 763876, 765625, 767376, 769129, 770884, 772641, 774400, 776161, 777924, 779689, 781456, 783225, 784996, 786769, 788544, 790321, 792100, 793881, 795664, 797449, 799236, 801025, 802816, 804609, 806404, 808201, 810000, 811801, 813604, 815409, 817216, 819025, 820836, 822649, 824464, 826281, 828100, 829921, 831744, 833569, 835396, 837225, 839056, 840889, 842724, 844561, 846400, 848241, 850084, 851929, 853776, 855625, 857476, 859329, 861184, 863041, 864900, 866761, 868624, 870489, 872356, 874225, 876096, 877969, 879844, 881721, 883600, 885481, 887364, 889249, 891136, 893025, 894916, 896809, 898704, 900601, 902500, 904401, 906304, 908209, 910116, 912025, 913936, 915849, 917764, 919681, 921600, 923521, 925444, 927369, 929296, 931225, 933156, 935089, 937024, 938961, 940900, 942841, 944784, 946729, 948676, 950625, 952576, 954529, 956484, 958441, 960400, 962361, 964324, 966289, 968256, 970225, 972196, 974169, 976144, 978121, 980100, 982081, 984064, 986049, 988036, 990025, 992016, 994009, 996004, 998001]\n"
     ]
    }
   ],
   "source": [
    "data = list(range(1000))\n",
    "\n",
    "def square(x):\n",
    "    return x*x\n",
    "\n",
    "x_squared = [square(value) for value in data]\n",
    "\n",
    "print(x_squared)"
   ]
  },
  {
   "cell_type": "markdown",
   "metadata": {},
   "source": [
    "Beyond readability, let's see if there is any performance difference between a normal for loop, map and list comprehension. Writing fast and efficient code is part of becoming a better developer."
   ]
  },
  {
   "cell_type": "code",
   "execution_count": 19,
   "metadata": {},
   "outputs": [
    {
     "name": "stdout",
     "output_type": "stream",
     "text": [
      "test_loop took 0.000060 seconds to execute.\n",
      "None\n",
      "test_map took 0.000054 seconds to execute.\n",
      "None\n",
      "test_list took 0.000045 seconds to execute.\n",
      "None\n"
     ]
    }
   ],
   "source": [
    "def timeit_decorator(func):\n",
    "    def wrapper(*args,**kwargs):\n",
    "        start_time = time.time()\n",
    "        result = func(*args, **kwargs)\n",
    "        end_time = time.time()\n",
    "        time_taken = end_time - start_time\n",
    "        print(f\"{func.__name__} took {time_taken:.6f} seconds to execute.\")\n",
    "        return result\n",
    "    return wrapper\n",
    "\n",
    "@timeit_decorator\n",
    "def test_loop(data):\n",
    "    result = []\n",
    "    for item in data:\n",
    "        result.append(square(item))\n",
    "    return None\n",
    "\n",
    "@timeit_decorator\n",
    "def test_map(data):\n",
    "    list(map(square,data))\n",
    "    return None\n",
    "\n",
    "@timeit_decorator\n",
    "def test_list(data):\n",
    "    [square(item) for item in data]\n",
    "    return None\n",
    "\n",
    "print(test_loop(data))\n",
    "print(test_map(data))\n",
    "print(test_list(data))"
   ]
  },
  {
   "cell_type": "markdown",
   "metadata": {},
   "source": [
    "##### 3.4.0 Using Dictionary Comprehension to build Dictionary"
   ]
  },
  {
   "cell_type": "markdown",
   "metadata": {},
   "source": [
    "If you have two lists of key and value pairs that you want to create a dictionary. Dictionary Comprehension can be an option."
   ]
  },
  {
   "cell_type": "code",
   "execution_count": 20,
   "metadata": {},
   "outputs": [
    {
     "name": "stdout",
     "output_type": "stream",
     "text": [
      "{'Alice': 'alice@email.com', 'Bernard': 'bernard@email.com', 'Cathy': 'cathy@email.com'}\n"
     ]
    }
   ],
   "source": [
    "# Dictionary Comprehension\n",
    "staffs = [\"Alice\",\"Bernard\",\"Cathy\"]\n",
    "emails = [\"alice@email.com\",\"bernard@email.com\",\"cathy@email.com\"]\n",
    "\n",
    "staff_email_dict = {staff: email for staff, email in zip(staffs, emails)}\n",
    "print(staff_email_dict)"
   ]
  },
  {
   "cell_type": "markdown",
   "metadata": {},
   "source": [
    "### 4. Practice Exercises"
   ]
  }
 ],
 "metadata": {
  "kernelspec": {
   "display_name": "coding",
   "language": "python",
   "name": "python3"
  },
  "language_info": {
   "codemirror_mode": {
    "name": "ipython",
    "version": 3
   },
   "file_extension": ".py",
   "mimetype": "text/x-python",
   "name": "python",
   "nbconvert_exporter": "python",
   "pygments_lexer": "ipython3",
   "version": "3.12.4"
  }
 },
 "nbformat": 4,
 "nbformat_minor": 2
}
